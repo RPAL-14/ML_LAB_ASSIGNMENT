{
  "nbformat": 4,
  "nbformat_minor": 0,
  "metadata": {
    "colab": {
      "provenance": [],
      "include_colab_link": true
    },
    "kernelspec": {
      "name": "python3",
      "display_name": "Python 3"
    },
    "language_info": {
      "name": "python"
    }
  },
  "cells": [
    {
      "cell_type": "markdown",
      "metadata": {
        "id": "view-in-github",
        "colab_type": "text"
      },
      "source": [
        "<a href=\"https://colab.research.google.com/github/RPAL-14/ML_LAB_ASSIGNMENT/blob/main/L1_ML.ipynb\" target=\"_parent\"><img src=\"https://colab.research.google.com/assets/colab-badge.svg\" alt=\"Open In Colab\"/></a>"
      ]
    },
    {
      "cell_type": "markdown",
      "source": [
        "# **Prerequisite**"
      ],
      "metadata": {
        "id": "2UOPiIVCFCes"
      }
    },
    {
      "cell_type": "code",
      "source": [
        "import numpy as np"
      ],
      "metadata": {
        "id": "cL61YILMFMdr"
      },
      "execution_count": null,
      "outputs": []
    },
    {
      "cell_type": "markdown",
      "source": [
        "# Question 1 - Basic NumPy Array"
      ],
      "metadata": {
        "id": "rQD8A-38E4T1"
      }
    },
    {
      "cell_type": "markdown",
      "source": [
        "## (a) Reverse the NumPy array: arr = np.array([1, 2, 3, 6, 4, 5])."
      ],
      "metadata": {
        "id": "ENa9hBcGFbm-"
      }
    },
    {
      "cell_type": "code",
      "execution_count": null,
      "metadata": {
        "colab": {
          "base_uri": "https://localhost:8080/"
        },
        "id": "XnRKb5THEy1k",
        "outputId": "9c33eefa-1af6-4d1a-8e85-9db481417fad"
      },
      "outputs": [
        {
          "output_type": "stream",
          "name": "stdout",
          "text": [
            "[5 4 6 3 2 1]\n"
          ]
        }
      ],
      "source": [
        "arr = np.array([1, 2, 3, 6, 4, 5])\n",
        "reversed_arr = arr[::-1]\n",
        "print(reversed_arr)"
      ]
    },
    {
      "cell_type": "markdown",
      "source": [
        "## (b) Flatten the NumPy array: array1 = np.array([[1, 2, 3], [2, 4, 5], [1, 2, 3]]) using any two NumPy in-built methods."
      ],
      "metadata": {
        "id": "s7G0pQkcFzld"
      }
    },
    {
      "cell_type": "code",
      "source": [
        "# Method 1: flatten\n",
        "array1 = np.array([[1, 2, 3], [2, 4, 5], [1, 2, 3]])\n",
        "flattened_array1 = array1.flatten()\n",
        "print(flattened_array1)\n",
        "\n",
        "# Method 2: ravel\n",
        "flattened_array2 = array1.ravel()\n",
        "print(flattened_array2)"
      ],
      "metadata": {
        "colab": {
          "base_uri": "https://localhost:8080/"
        },
        "id": "Fgtrg917F_az",
        "outputId": "97fc8414-f702-45b2-86b3-687beba6871f"
      },
      "execution_count": null,
      "outputs": [
        {
          "output_type": "stream",
          "name": "stdout",
          "text": [
            "[1 2 3 2 4 5 1 2 3]\n",
            "[1 2 3 2 4 5 1 2 3]\n"
          ]
        }
      ]
    },
    {
      "cell_type": "markdown",
      "source": [
        "## (c) Compare the following numpy arrays:\n",
        "arr1 = np.array([[1, 2], [3, 4]])<br>\n",
        "arr2 = np.array([[1, 2], [3, 4]])"
      ],
      "metadata": {
        "id": "g7Nc5OKtGK2F"
      }
    },
    {
      "cell_type": "code",
      "source": [
        "arr1 = np.array([[1, 2], [3, 4]])\n",
        "arr2 = np.array([[1, 2], [3, 4]])\n",
        "are_equal = np.array_equal(arr1, arr2)\n",
        "print(are_equal)"
      ],
      "metadata": {
        "colab": {
          "base_uri": "https://localhost:8080/"
        },
        "id": "Q5eZn8xTGg3G",
        "outputId": "ee145ccf-e538-4277-f996-f35c14a3a6d6"
      },
      "execution_count": null,
      "outputs": [
        {
          "output_type": "stream",
          "name": "stdout",
          "text": [
            "True\n"
          ]
        }
      ]
    },
    {
      "cell_type": "markdown",
      "source": [
        "## (d) Find the most frequent value and their indice(s) in the following arrays:\n",
        "(i) x = np.array([1,2,3,4,5,1,2,1,1,1])<br>\n",
        "(ii) y = np.array([1, 1, 1, 2, 3, 4, 2, 4, 3, 3, ])"
      ],
      "metadata": {
        "id": "lul9ulEjGnKq"
      }
    },
    {
      "cell_type": "code",
      "source": [
        "from collections import Counter\n",
        "x = np.array([1, 2, 3, 4, 5, 1, 2, 1, 1, 1])\n",
        "y = np.array([1, 1, 1, 2, 3, 4, 2, 4, 3, 3])\n",
        "\n",
        "most_frequent_x = Counter(x).most_common(1)[0]\n",
        "most_frequent_y = Counter(y).most_common(1)[0]\n",
        "indices_x = np.where(x == most_frequent_x[0])[0]\n",
        "indices_y = np.where(y == most_frequent_y[0])[0]\n",
        "\n",
        "print(f\"Most frequent value in x: {most_frequent_x[0]}, Indices: {indices_x}\")\n",
        "print(f\"Most frequent value in y: {most_frequent_y[0]}, Indices: {indices_y}\")"
      ],
      "metadata": {
        "colab": {
          "base_uri": "https://localhost:8080/"
        },
        "id": "CROGgpg-G0Zj",
        "outputId": "2252894c-e402-4f01-d521-65e086de1b42"
      },
      "execution_count": null,
      "outputs": [
        {
          "output_type": "stream",
          "name": "stdout",
          "text": [
            "Most frequent value in x: 1, Indices: [0 5 7 8 9]\n",
            "Most frequent value in y: 1, Indices: [0 1 2]\n"
          ]
        }
      ]
    },
    {
      "cell_type": "markdown",
      "source": [
        "## (e) For the array gfg = np.matrix('[4, 1, 9; 12, 3, 1; 4, 5, 6]'), find:\n",
        "i. Sum of all elements<br>\n",
        "ii. Sum of all elements row-wise<br>\n",
        "iii. Sum of all elements column-wise"
      ],
      "metadata": {
        "id": "Vv-XiZ50G9B6"
      }
    },
    {
      "cell_type": "code",
      "source": [
        "gfg = np.matrix('[4, 1, 9; 12, 3, 1; 4, 5, 6]')\n",
        "sum_all = gfg.sum()\n",
        "sum_row_wise = gfg.sum(axis=1)\n",
        "sum_column_wise = gfg.sum(axis=0)\n",
        "\n",
        "print(f\"Sum of all elements: {sum_all}\")\n",
        "print(f\"Sum of all elements row-wise: {sum_row_wise}\")\n",
        "print(f\"Sum of all elements column-wise: {sum_column_wise}\")"
      ],
      "metadata": {
        "colab": {
          "base_uri": "https://localhost:8080/"
        },
        "id": "Nm8iNyczHG5F",
        "outputId": "2af62e55-00f0-4616-a9b2-ad47200ebdec"
      },
      "execution_count": null,
      "outputs": [
        {
          "output_type": "stream",
          "name": "stdout",
          "text": [
            "Sum of all elements: 45\n",
            "Sum of all elements row-wise: [[14]\n",
            " [16]\n",
            " [15]]\n",
            "Sum of all elements column-wise: [[20  9 16]]\n"
          ]
        }
      ]
    },
    {
      "cell_type": "markdown",
      "source": [
        "## (f) For the matrix: n_array = np.array([[55, 25, 15],[30, 44, 2],[11, 45, 77]]), find:\n",
        "i. Sum of diagonal elements<br>\n",
        "ii. Eigen values of matrix<br>\n",
        "iii. Eigen vectors of matrix<br>\n",
        "iv. Inverse of matrix<br>\n",
        "v. Determinant of matrix"
      ],
      "metadata": {
        "id": "_8RZdwziHUOj"
      }
    },
    {
      "cell_type": "code",
      "source": [
        "n_array = np.array([[55, 25, 15],[30, 44, 2],[11, 45, 77]])\n",
        "\n",
        "# i. Sum of diagonal elements\n",
        "diagonal_sum = np.trace(n_array)\n",
        "\n",
        "# ii. Eigen values of matrix\n",
        "eigen_values = np.linalg.eigvals(n_array)\n",
        "\n",
        "# iii. Eigen vectors of matrix\n",
        "_, eigen_vectors = np.linalg.eig(n_array)\n",
        "\n",
        "# iv. Inverse of matrix\n",
        "inverse_matrix = np.linalg.inv(n_array)\n",
        "\n",
        "# v. Determinant of matrix\n",
        "determinant = np.linalg.det(n_array)\n",
        "\n",
        "print(f\"Sum of diagonal elements: {diagonal_sum}\")\n",
        "print(f\"Eigen values of matrix: {eigen_values}\")\n",
        "print(f\"Eigen vectors of matrix: \\n{eigen_vectors}\")\n",
        "print(f\"Inverse of matrix: \\n{inverse_matrix}\")\n",
        "print(f\"Determinant of matrix: {determinant}\")"
      ],
      "metadata": {
        "colab": {
          "base_uri": "https://localhost:8080/"
        },
        "id": "dtA8m8fZHgJu",
        "outputId": "66b57de2-3353-460c-9ab2-e149a3347f0a"
      },
      "execution_count": null,
      "outputs": [
        {
          "output_type": "stream",
          "name": "stdout",
          "text": [
            "Sum of diagonal elements: 176\n",
            "Eigen values of matrix: [98.16835147 28.097044   49.73460452]\n",
            "Eigen vectors of matrix: \n",
            "[[ 0.4574917   0.34637121 -0.15017693]\n",
            " [ 0.28447814 -0.72784061 -0.4852124 ]\n",
            " [ 0.84248058  0.59184038  0.8614034 ]]\n",
            "Inverse of matrix: \n",
            "[[ 0.02404141 -0.00911212 -0.00444671]\n",
            " [-0.01667882  0.02966905  0.0024785 ]\n",
            " [ 0.00631287 -0.01603732  0.01217379]]\n",
            "Determinant of matrix: 137180.0000000001\n"
          ]
        }
      ]
    },
    {
      "cell_type": "markdown",
      "source": [
        "## (g) Multiply the following matrices and also find covariance between matrices using NumPy:\n",
        "i. p = [[1, 2], [2, 3]], q = [[4, 5], [6, 7]]<br>\n",
        "ii. p = [[1, 2], [2, 3], [4, 5]], q = [[4, 5, 1], [6, 7, 2]]"
      ],
      "metadata": {
        "id": "P5Rp04sRHmmx"
      }
    },
    {
      "cell_type": "code",
      "source": [
        "# Matrix Multiplication:\n",
        "# First pair of matrices\n",
        "p1 = np.array([[1, 2], [2, 3]])\n",
        "q1 = np.array([[4, 5], [6, 7]])\n",
        "product1 = np.dot(p1, q1)\n",
        "\n",
        "# Second pair of matrices\n",
        "p2 = np.array([[1, 2], [2, 3], [4, 5]])\n",
        "q2 = np.array([[4, 5, 1], [6, 7, 2]])\n",
        "product2 = np.dot(p2, q2)\n",
        "print(f\"Product of first pair: \\n{product1}\")\n",
        "print(f\"Product of second pair: \\n{product2}\")\n",
        "\n",
        "\n",
        "# Covariance:\n",
        "covariance1 = np.cov(p1, rowvar=False)\n",
        "covariance2 = np.cov(p2, rowvar=False)\n",
        "print(f\"Covariance of first matrix p1: \\n{covariance1}\")\n",
        "print(f\"Covariance of second matrix p2: \\n{covariance2}\")"
      ],
      "metadata": {
        "colab": {
          "base_uri": "https://localhost:8080/"
        },
        "id": "h_FHf3xXHy5n",
        "outputId": "77d13daf-add8-4b4e-88ff-08c870c444bb"
      },
      "execution_count": null,
      "outputs": [
        {
          "output_type": "stream",
          "name": "stdout",
          "text": [
            "Product of first pair: \n",
            "[[16 19]\n",
            " [26 31]]\n",
            "Product of second pair: \n",
            "[[16 19  5]\n",
            " [26 31  8]\n",
            " [46 55 14]]\n",
            "Covariance of first matrix p1: \n",
            "[[0.5 0.5]\n",
            " [0.5 0.5]]\n",
            "Covariance of second matrix p2: \n",
            "[[2.33333333 2.33333333]\n",
            " [2.33333333 2.33333333]]\n"
          ]
        }
      ]
    },
    {
      "cell_type": "markdown",
      "source": [
        "## (h) For the matrices: x = np.array([[2, 3, 4], [3, 2, 9]]); y = np.array([[1, 5, 0], [5, 10, 3]]), find inner, outer and cartesian product."
      ],
      "metadata": {
        "id": "XxPmlZeCIAFR"
      }
    },
    {
      "cell_type": "code",
      "source": [
        "# Inner Product:\n",
        "x = np.array([[2, 3, 4], [3, 2, 9]])\n",
        "y = np.array([[1, 5, 0], [5, 10, 3]])\n",
        "inner_product = np.inner(x, y)\n",
        "print(f\"Inner product: \\n{inner_product}\")\n",
        "\n",
        "# Outer Product:\n",
        "outer_product = np.outer(x, y)\n",
        "print(f\"Outer product: \\n{outer_product}\")\n",
        "\n",
        "# Cartesian Product (Note: Cartesian product is not a standard numpy operation, but you can use itertools):\n",
        "import itertools\n",
        "cartesian_product = np.array(list(itertools.product(x.flatten(), y.flatten())))\n",
        "print(f\"Cartesian product: \\n{cartesian_product}\")"
      ],
      "metadata": {
        "colab": {
          "base_uri": "https://localhost:8080/"
        },
        "id": "zU3YJEBfIGH3",
        "outputId": "84b707f7-c846-4e1c-f337-76896c0de53c"
      },
      "execution_count": null,
      "outputs": [
        {
          "output_type": "stream",
          "name": "stdout",
          "text": [
            "Inner product: \n",
            "[[17 52]\n",
            " [13 62]]\n",
            "Outer product: \n",
            "[[ 2 10  0 10 20  6]\n",
            " [ 3 15  0 15 30  9]\n",
            " [ 4 20  0 20 40 12]\n",
            " [ 3 15  0 15 30  9]\n",
            " [ 2 10  0 10 20  6]\n",
            " [ 9 45  0 45 90 27]]\n",
            "Cartesian product: \n",
            "[[ 2  1]\n",
            " [ 2  5]\n",
            " [ 2  0]\n",
            " [ 2  5]\n",
            " [ 2 10]\n",
            " [ 2  3]\n",
            " [ 3  1]\n",
            " [ 3  5]\n",
            " [ 3  0]\n",
            " [ 3  5]\n",
            " [ 3 10]\n",
            " [ 3  3]\n",
            " [ 4  1]\n",
            " [ 4  5]\n",
            " [ 4  0]\n",
            " [ 4  5]\n",
            " [ 4 10]\n",
            " [ 4  3]\n",
            " [ 3  1]\n",
            " [ 3  5]\n",
            " [ 3  0]\n",
            " [ 3  5]\n",
            " [ 3 10]\n",
            " [ 3  3]\n",
            " [ 2  1]\n",
            " [ 2  5]\n",
            " [ 2  0]\n",
            " [ 2  5]\n",
            " [ 2 10]\n",
            " [ 2  3]\n",
            " [ 9  1]\n",
            " [ 9  5]\n",
            " [ 9  0]\n",
            " [ 9  5]\n",
            " [ 9 10]\n",
            " [ 9  3]]\n"
          ]
        }
      ]
    },
    {
      "cell_type": "markdown",
      "source": [
        "# Question 2 - NumPy Mathematics and Statistics"
      ],
      "metadata": {
        "id": "nbL9u1I7IaWP"
      }
    },
    {
      "cell_type": "markdown",
      "source": [
        "## (a) For the array: array = np.array([[1, -2, 3],[-4, 5, -6]])"
      ],
      "metadata": {
        "id": "nqk2LmwgIxxX"
      }
    },
    {
      "cell_type": "code",
      "source": [
        "# i. Find element-wise absolute value\n",
        "array = np.array([[1, -2, 3], [-4, 5, -6]])\n",
        "abs_array = np.abs(array)\n",
        "print(abs_array)\n",
        "\n",
        "# ii. Find the 25th, 50th, and 75th percentile of flattened array, for each column, for each row\n",
        "flattened_array = array.flatten()\n",
        "percentile_25 = np.percentile(flattened_array, 25)\n",
        "percentile_50 = np.percentile(flattened_array, 50)\n",
        "percentile_75 = np.percentile(flattened_array, 75)\n",
        "\n",
        "percentile_25_column = np.percentile(array, 25, axis=0)\n",
        "percentile_50_column = np.percentile(array, 50, axis=0)\n",
        "percentile_75_column = np.percentile(array, 75, axis=0)\n",
        "\n",
        "percentile_25_row = np.percentile(array, 25, axis=1)\n",
        "percentile_50_row = np.percentile(array, 50, axis=1)\n",
        "percentile_75_row = np.percentile(array, 75, axis=1)\n",
        "\n",
        "print(f\"25th percentile of flattened array: {percentile_25}\")\n",
        "print(f\"50th percentile of flattened array: {percentile_50}\")\n",
        "print(f\"75th percentile of flattened array: {percentile_75}\")\n",
        "\n",
        "print(f\"25th percentile of each column: {percentile_25_column}\")\n",
        "print(f\"50th percentile of each column: {percentile_50_column}\")\n",
        "print(f\"75th percentile of each column: {percentile_75_column}\")\n",
        "\n",
        "print(f\"25th percentile of each row: {percentile_25_row}\")\n",
        "print(f\"50th percentile of each row: {percentile_50_row}\")\n",
        "print(f\"75th percentile of each row: {percentile_75_row}\")\n",
        "\n",
        "# iii. Mean, Median and Standard Deviation of flattened array, of each column, and each row\n",
        "mean_flattened = np.mean(flattened_array)\n",
        "median_flattened = np.median(flattened_array)\n",
        "std_flattened = np.std(flattened_array)\n",
        "\n",
        "mean_column = np.mean(array, axis=0)\n",
        "median_column = np.median(array, axis=0)\n",
        "std_column = np.std(array, axis=0)\n",
        "\n",
        "mean_row = np.mean(array, axis=1)\n",
        "median_row = np.median(array, axis=1)\n",
        "std_row = np.std(array, axis=1)\n",
        "\n",
        "print(f\"Mean of flattened array: {mean_flattened}\")\n",
        "print(f\"Median of flattened array: {median_flattened}\")\n",
        "print(f\"Standard Deviation of flattened array: {std_flattened}\")\n",
        "\n",
        "print(f\"Mean of each column: {mean_column}\")\n",
        "print(f\"Median of each column: {median_column}\")\n",
        "print(f\"Standard Deviation of each column: {std_column}\")\n",
        "\n",
        "print(f\"Mean of each row: {mean_row}\")\n",
        "print(f\"Median of each row: {median_row}\")\n",
        "print(f\"Standard Deviation of each row: {std_row}\")"
      ],
      "metadata": {
        "colab": {
          "base_uri": "https://localhost:8080/"
        },
        "id": "svy50HBlIoLS",
        "outputId": "e2d3d1ff-d822-48d0-df51-bf012d9075f1"
      },
      "execution_count": null,
      "outputs": [
        {
          "output_type": "stream",
          "name": "stdout",
          "text": [
            "[[1 2 3]\n",
            " [4 5 6]]\n",
            "25th percentile of flattened array: -3.5\n",
            "50th percentile of flattened array: -0.5\n",
            "75th percentile of flattened array: 2.5\n",
            "25th percentile of each column: [-2.75 -0.25 -3.75]\n",
            "50th percentile of each column: [-1.5  1.5 -1.5]\n",
            "75th percentile of each column: [-0.25  3.25  0.75]\n",
            "25th percentile of each row: [-0.5 -5. ]\n",
            "50th percentile of each row: [ 1. -4.]\n",
            "75th percentile of each row: [2.  0.5]\n",
            "Mean of flattened array: -0.5\n",
            "Median of flattened array: -0.5\n",
            "Standard Deviation of flattened array: 3.8622100754188224\n",
            "Mean of each column: [-1.5  1.5 -1.5]\n",
            "Median of each column: [-1.5  1.5 -1.5]\n",
            "Standard Deviation of each column: [2.5 3.5 4.5]\n",
            "Mean of each row: [ 0.66666667 -1.66666667]\n",
            "Median of each row: [ 1. -4.]\n",
            "Standard Deviation of each row: [2.05480467 4.78423336]\n"
          ]
        }
      ]
    },
    {
      "cell_type": "markdown",
      "source": [
        "## (b) For the array: a = np.array([-1.8, -1.6, -0.5, 0.5,1.6, 1.8, 3.0]). Find floor, ceiling and truncated value, rounded values."
      ],
      "metadata": {
        "id": "FIJKX4QeJHs2"
      }
    },
    {
      "cell_type": "code",
      "source": [
        "a = np.array([-1.8, -1.6, -0.5, 0.5, 1.6, 1.8, 3.0])\n",
        "floor_values = np.floor(a)\n",
        "ceiling_values = np.ceil(a)\n",
        "truncated_values = np.trunc(a)\n",
        "rounded_values = np.round(a)\n",
        "\n",
        "print(f\"Floor values: {floor_values}\")\n",
        "print(f\"Ceiling values: {ceiling_values}\")\n",
        "print(f\"Truncated values: {truncated_values}\")\n",
        "print(f\"Rounded values: {rounded_values}\")"
      ],
      "metadata": {
        "colab": {
          "base_uri": "https://localhost:8080/"
        },
        "id": "dbFmw5cjJPiB",
        "outputId": "c031558c-07c2-423c-a283-29d8548a6dec"
      },
      "execution_count": null,
      "outputs": [
        {
          "output_type": "stream",
          "name": "stdout",
          "text": [
            "Floor values: [-2. -2. -1.  0.  1.  1.  3.]\n",
            "Ceiling values: [-1. -1. -0.  1.  2.  2.  3.]\n",
            "Truncated values: [-1. -1. -0.  0.  1.  1.  3.]\n",
            "Rounded values: [-2. -2. -0.  0.  2.  2.  3.]\n"
          ]
        }
      ]
    },
    {
      "cell_type": "markdown",
      "source": [
        "# Question 3 - Searching and Sorting"
      ],
      "metadata": {
        "id": "0FfN1aPpJUNi"
      }
    },
    {
      "cell_type": "markdown",
      "source": [
        "## (a) For the array: array = np.array([10, 52, 62, 16, 16, 54, 453])\n",
        "i. Sorted array<br>\n",
        "ii. Indices of sorted array<br>\n",
        "iii. 4 smallest elements<br>\n",
        "iv. 5 largest elements"
      ],
      "metadata": {
        "id": "o_VPl3D4JZrm"
      }
    },
    {
      "cell_type": "code",
      "source": [
        "array = np.array([10, 52, 62, 16, 16, 54, 453])\n",
        "sorted_array = np.sort(array)\n",
        "sorted_indices = np.argsort(array)\n",
        "smallest_4 = np.sort(array)[:4]\n",
        "largest_5 = np.sort(array)[-5:]\n",
        "\n",
        "print(f\"Sorted array: {sorted_array}\")\n",
        "print(f\"Indices of sorted array: {sorted_indices}\")\n",
        "print(f\"4 smallest elements: {smallest_4}\")\n",
        "print(f\"5 largest elements: {largest_5}\")"
      ],
      "metadata": {
        "colab": {
          "base_uri": "https://localhost:8080/"
        },
        "id": "0OzOnfw8Jf3a",
        "outputId": "d9e6e488-c7b3-4c52-dada-5909245d8ea2"
      },
      "execution_count": null,
      "outputs": [
        {
          "output_type": "stream",
          "name": "stdout",
          "text": [
            "Sorted array: [ 10  16  16  52  54  62 453]\n",
            "Indices of sorted array: [0 3 4 1 5 2 6]\n",
            "4 smallest elements: [10 16 16 52]\n",
            "5 largest elements: [ 16  52  54  62 453]\n"
          ]
        }
      ]
    },
    {
      "cell_type": "markdown",
      "source": [
        "## (b) For the array: array = np.array([1.0, 1.2, 2.2, 2.0, 3.0, 2.0])\n",
        "i. Integer elements only<br>\n",
        "ii. Float elements only"
      ],
      "metadata": {
        "id": "jbXCfgkpJfYK"
      }
    },
    {
      "cell_type": "code",
      "source": [
        "array = np.array([1.0, 1.2, 2.2, 2.0, 3.0, 2.0])\n",
        "integer_elements = array[array == array.astype(int)]\n",
        "float_elements = array[array != array.astype(int)]\n",
        "print(f\"Integer elements only: {integer_elements}\")\n",
        "print(f\"Float elements only: {float_elements}\")"
      ],
      "metadata": {
        "colab": {
          "base_uri": "https://localhost:8080/"
        },
        "id": "pCDYZdntJrP0",
        "outputId": "7b3fc9eb-aee8-407f-d53e-98074b7c8c4e"
      },
      "execution_count": null,
      "outputs": [
        {
          "output_type": "stream",
          "name": "stdout",
          "text": [
            "Integer elements only: [1. 2. 3. 2.]\n",
            "Float elements only: [1.2 2.2]\n"
          ]
        }
      ]
    },
    {
      "cell_type": "markdown",
      "source": [
        "# Question 4"
      ],
      "metadata": {
        "id": "tES2WFtAJvHV"
      }
    },
    {
      "cell_type": "markdown",
      "source": [
        "## (a) Write a function named img_to_array(path) that reads an image from a specified path and save it as text file on local machine? (Note: use separate cases for RGB and Grey Scale images)"
      ],
      "metadata": {
        "id": "Oyh8O5TKJu5K"
      }
    },
    {
      "cell_type": "code",
      "source": [
        "import numpy as np\n",
        "from PIL import Image\n",
        "\n",
        "def img_to_array(path):\n",
        "    img = Image.open(path)\n",
        "    img_array = np.array(img)\n",
        "\n",
        "    if len(img_array.shape) == 2:  # Grey Scale\n",
        "        np.savetxt(r'/content/image_grey.txt', img_array, fmt='%d')\n",
        "    else:  # RGB\n",
        "        np.savetxt(r'/content/image_rgb.txt', img_array.reshape(-1, img_array.shape[2]), fmt='%d')\n",
        "\n",
        "img_to_array(r'/content/Mountains.jpg')"
      ],
      "metadata": {
        "id": "M-EKl7oxJ6wX"
      },
      "execution_count": null,
      "outputs": []
    },
    {
      "cell_type": "markdown",
      "source": [
        "## (b) Load the saved file into jupyter notebook?"
      ],
      "metadata": {
        "id": "rah0OkYMJ-s9"
      }
    },
    {
      "cell_type": "code",
      "source": [
        "# For Grey Scale Image\n",
        "# image_grey = np.loadtxt('/content/image_grey.txt', dtype=int)\n",
        "# print(image_grey)\n",
        "\n",
        "# For RGB Image\n",
        "image_rgb = np.loadtxt('/content/image_rgb.txt', dtype=int)\n",
        "image_rgb = image_rgb.reshape(-1, image_rgb.shape[1] // 3, 3)\n",
        "print(image_rgb)"
      ],
      "metadata": {
        "colab": {
          "base_uri": "https://localhost:8080/"
        },
        "id": "bOZukSyKKCoB",
        "outputId": "4b41930b-27ac-4d6a-cfc8-ed0aed66b6dd"
      },
      "execution_count": null,
      "outputs": [
        {
          "output_type": "stream",
          "name": "stdout",
          "text": [
            "[[[ 38  37  53]]\n",
            "\n",
            " [[ 23  22  38]]\n",
            "\n",
            " [[ 34  32  46]]\n",
            "\n",
            " ...\n",
            "\n",
            " [[ 87 114 133]]\n",
            "\n",
            " [[ 93 120 139]]\n",
            "\n",
            " [[ 86 113 130]]]\n"
          ]
        }
      ]
    }
  ]
}